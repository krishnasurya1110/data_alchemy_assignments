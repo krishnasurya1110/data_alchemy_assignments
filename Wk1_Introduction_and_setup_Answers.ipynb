{
 "cells": [
  {
   "attachments": {
    "image.png": {
     "image/png": "[encoded data removed]"
    }
   },
   "cell_type": "markdown",
   "metadata": {},
   "source": [
    "## Setting up environment\n",
    "\n",
    "### 1. Installations & Python Setup\n",
    "\n",
    "1. Install VS code : https://code.visualstudio.com/download\n",
    "2. Download and install Python : https://www.python.org/downloads/\n",
    "3. Install Git : https://git-scm.com/downloads\n",
    "4. Add python and git to the environment variables! (Windows only)\n",
    "    1. Windows Key + R and then ```'sysdm.cpl'```\n",
    "    2. Go to Adavanced -> Environment Variables\n",
    "    3. Your environment variables should look something like this for everything to work: <br>\n",
    "    ![image.png](attachment:image.png)\n",
    "5. Add important VS Code Extensions:\n",
    "    - Python & Pylance\n",
    "    - Jupyter : https://marketplace.visualstudio.com/items?itemName=ms-toolsai.jupyter\n",
    "\n",
    "\n",
    "Acknowledgement: Completed\n"
   ]
  },
  {
   "cell_type": "markdown",
   "metadata": {},
   "source": [
    "\n",
    "\n",
    "### 2. venv\n",
    "\n",
    "We will use a python virtual environment to make a self contained dev environment that has everything we need and is isolated from the global python environment.\n",
    "\n",
    "1. Open the terminal in VS Code (Ctrl+`).<br><br>\n",
    "2. Create a virtual environment ```python -m venv env_name```\n",
    "3. Activate the virtual env ```env_name\\Scripts\\activate```\n",
    "<br>\n",
    "(For Windows) If your folder doesn't have the required permissions for this step, you might run into SecurityError. To fix that: <br>\n",
    "    &emsp;&emsp; a. run cmd as administrator <br>\n",
    "    &emsp;&emsp; b. navigate to your folder (example `cd '.\\OneDrive\\Desktop\\Build Fellowship\\'`) <br>\n",
    "    &emsp;&emsp; c. run this command `Set-ExecutionPolicy -ExecutionPolicy RemoteSigned -Scope LocalMachine` <br></pre>\n",
    "<br>\n",
    "\n",
    "4. Install required dependencies ```pip install -r requirements.txt```\n",
    "\n",
    "Acknowledgement: Completed\n"
   ]
  },
  {
   "cell_type": "markdown",
   "metadata": {},
   "source": [
    "### 3. Understanding the Basics\n",
    "\n",
    "Below are some videos to understand the basics of VS Code, venv and python\n",
    "\n",
    "1. VS Code : \n",
    "    - Basics : https://www.youtube.com/watch?v=B-s71n0dHUk&pp=ygUMbGVhcm4gdnNjb2Rl\n",
    "    - Tips & Tricks : https://www.youtube.com/watch?v=ifTF3ags0XI&t=217s&pp=ygUMbGVhcm4gdnNjb2Rl\n",
    "\n",
    "2. Git : \n",
    "    - Basics : https://www.youtube.com/watch?v=USjZcfj8yxE&t=164s\n",
    "    - Working with Branches : https://www.youtube.com/watch?v=e2IbNHi4uCI&pp=ygUNZ2l0IGJyYW5jaGluZw%3D%3D (slightly longer video but in-depth)\n",
    "    \n",
    "Acknowledgement: Completed"
   ]
  },
  {
   "cell_type": "markdown",
   "metadata": {},
   "source": [
    "### 4. Quiz"
   ]
  },
  {
   "cell_type": "markdown",
   "metadata": {},
   "source": [
    "\n",
    "1. **What is Git?**  \n",
    "   B. A distributed version control system  \n",
    "\n",
    "2. **Which Git command initializes a new repository in your project folder?**  \n",
    "   C. `git init`  \n",
    "\n",
    "3. **How do you check the status of your working directory and staging area?**   \n",
    "   C. `git status`  \n",
    "\n",
    "4. **Which command adds your changes to the staging area in Git?**  \n",
    "   C. `git add`  \n",
    "\n",
    "5. **How do you create a new branch and switch to it immediately?**  \n",
    "   D. Both B (`git checkout -b [branch-name]`) and (with Git 2.23+) `git switch -c [branch-name]`\n",
    "\n",
    "6. **What does the `git merge` command do?**  \n",
    "   B. It combines changes from one branch into the branch you’re currently on.\n",
    "\n",
    "7. **Explain the difference between `git fetch` and `git pull`.**  \n",
    "`git fetch` - fetches changes from remote repo but does not merge them to local repo  \n",
    "`git pull` - fetches changes from remote repo and also merges them to local repo\n",
    "\n",
    "8. **If you accidentally commit sensitive information and have already pushed it to a remote repository, what is a recommended method to remove it safely?**  \n",
    "git filter-branch (remove sensitive info) and git push --force (to push the updated repo)\n",
    "\n",
    "9. **What is a \"detached HEAD\" state in Git, and how can you resolve it?**  \n",
    "It happens when we checkout at a specific commit. It can be resolved by creating a new branch from the detached HEAD.\n",
    "\n",
    "10. **Compare and contrast Git merging and rebasing. What are the advantages and potential pitfalls of using `git rebase` in a collaborative workflow?**  \n",
    "git merge combines changes from one branch into the branch you’re currently on. In the end, we would have the history of both branches.  \n",
    "git rebase takes commits from current branch and places it on top of another branch. In the end, the history looks like a straight line.\n",
    "\n",
    "\n",
    "Advantages of git rebase:\n",
    "- Linear history is easier to manage and understand without a lot of merge commits\n",
    "\n",
    "Potential pitfalls of git rebase:\n",
    "- It essentially rewrites the history of the target branch which is usually the main/ master branch so it can cause problems if others have based their work on a version of code that preceeded our git rebase\n",
    "\n",
    "11. **(Optional) Create a fork of this repo and submit the assignment by committing your changes to that fork.** "
   ]
  },
  {
   "cell_type": "markdown",
   "metadata": {},
   "source": [
    "### 5. How to submit?\n",
    "\n",
    "Submit the entire notebook with comments/acknowledgement in the first two sections. For the quiz:\n",
    "- MCQs just highlight your option or delete the others and explain why.\n",
    "- Write answers in line for open ended"
   ]
  },
  {
   "cell_type": "markdown",
   "metadata": {},
   "source": []
  }
 ],
 "metadata": {
  "kernelspec": {
   "display_name": "Python 3",
   "language": "python",
   "name": "python3"
  },
  "language_info": {
   "codemirror_mode": {
    "name": "ipython",
    "version": 3
   },
   "file_extension": ".py",
   "mimetype": "text/x-python",
   "name": "python",
   "nbconvert_exporter": "python",
   "pygments_lexer": "ipython3",
   "version": "3.12.4"
  }
 },
 "nbformat": 4,
 "nbformat_minor": 2
}
